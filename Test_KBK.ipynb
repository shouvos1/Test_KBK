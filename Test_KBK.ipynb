{
 "cells": [
  {
   "cell_type": "markdown",
   "id": "1eaf16ee-728a-48bf-95e8-532c233b8e84",
   "metadata": {},
   "source": [
    "\n",
    "## Final Project: Tools and Languages of Data Science\n"
   ]
  },
  {
   "cell_type": "markdown",
   "id": "bf4fc5de-2830-422a-b9e1-2130d8ddb05c",
   "metadata": {},
   "source": [
    "\n",
    "#Welcome to this final project notebook. In this notebook, we will explore the fundamental concepts of data science, including the most popular languages, libraries, and tools used by data scientists. We will also perform some basic arithmetic operations using Python code to demonstrate key programming concepts.\n"
   ]
  },
  {
   "cell_type": "markdown",
   "id": "28b3afe4-108e-4464-b9ac-76a43a2e4477",
   "metadata": {},
   "source": [
    "\n",
    "\n",
    "#Some of the most popular and widely used languages in data science include:\n",
    "\n",
    "*   **Python:** The most popular language for data science due to its simplicity, extensive libraries (like Pandas, NumPy, and Scikit-learn), and versatility.\n",
    "*   **R:** A language built specifically for statistical computing and graphics. It is highly favored in academia and research.\n",
    "*   **SQL (Structured Query Language):** Essential for managing and querying data stored in relational databases.\n",
    "*   **Julia:** A newer, high-performance language designed for technical computing, which is gaining popularity for its speed.\n",
    "*   **Java:** Often used in large-scale enterprise systems and for building big data frameworks like Hadoop and Spark.\n",
    "*   **Scala:** Runs on the Java Virtual Machine (JVM) and is a popular choice for working with Apache Spark.\n"
   ]
  },
  {
   "cell_type": "markdown",
   "id": "6b22f7db-8bff-4fb8-8a57-9604670ed9b5",
   "metadata": {},
   "source": [
    "#Data scientists rely on powerful libraries to perform complex tasks efficiently. Some of the most essential libraries, particularly for Python, are:\n",
    "\n",
    "*   **Pandas:** For data manipulation and analysis, providing powerful data structures like the DataFrame.\n",
    "*   **NumPy:** The fundamental package for numerical computing in Python, offering support for large, multi-dimensional arrays and matrices.\n",
    "*   **Matplotlib:** A comprehensive library for creating static, animated, and interactive visualizations.\n",
    "*   **Seaborn:** A high-level visualization library based on Matplotlib that offers beautiful and informative statistical graphics.\n",
    "*   **Scikit-learn:** The go-to library for machine learning, featuring tools for classification, regression, clustering, and model selection.\n",
    "*   **TensorFlow & PyTorch:** Leading deep learning frameworks for building and training neural networks.\n",
    "*   **ggplot2:** A powerful and popular data visualization library for the R language.\n"
   ]
  },
  {
   "cell_type": "markdown",
   "id": "539a992c-21f4-4085-ab37-3ce4352af7ad",
   "metadata": {},
   "source": [
    "#Data Science Tools\n",
    "\n",
    "| Category          | Tool Name         | Description                                           |\n",
    "|-------------------|-------------------|-------------------------------------------------------|\n",
    "| **Development**   | Jupyter Notebook  | An open-source web application for creating and sharing documents that contain live code, equations, and text. |\n",
    "| **Development**   | RStudio           | An integrated development environment (IDE) for the R language. |\n",
    "| **Cloud Platform**| IBM Watson Studio | An integrated environment for data scientists, developers, and analysts. |\n",
    "| **Cloud Platform**| Google Colab      | A free Jupyter notebook environment that runs entirely in the cloud. |\n",
    "| **Big Data**      | Apache Spark      | A unified analytics engine for large-scale data processing. |\n",
    "| **Version Control**| Git / GitHub      | A system for tracking changes in source code and collaborating on projects. |\n",
    "\n"
   ]
  },
  {
   "cell_type": "markdown",
   "id": "b5024e03-f0db-47f3-8236-109eaf5c204a",
   "metadata": {},
   "source": [
    "### Examples of Arithmetic Expressions in Python Below are a few examples of how to use Python code to perform basic mathematical calculations. We will demonstrate simple operations like addition and multiplication, as well as a practical conversion from minutes to hours."
   ]
  },
  {
   "cell_type": "code",
   "execution_count": 13,
   "id": "c74393a8-741b-4682-9023-646eaeb7b2e6",
   "metadata": {},
   "outputs": [
    {
     "name": "stdout",
     "output_type": "stream",
     "text": [
      "The result of the calculation is: 42\n"
     ]
    }
   ],
   "source": [
    "# expression to multiply then add integers. \n",
    "result = (8 * 4) + 10 \n",
    "# The result should be 30 \n",
    "print(\"The result of the calculation is:\", result)"
   ]
  },
  {
   "cell_type": "code",
   "execution_count": 17,
   "id": "691e2cd9-d787-4e17-a5fd-208f1feb662a",
   "metadata": {},
   "outputs": [
    {
     "name": "stdout",
     "output_type": "stream",
     "text": [
      "150 minutes is equal to 2.5 hours.\n"
     ]
    }
   ],
   "source": [
    "\n",
    "# This code cell will convert, for example:  150 minutes into hours. \n",
    "minutes = 150 \n",
    "hours = minutes / 60 \n",
    "print(f\"{minutes} minutes is equal to {hours} hours.\")"
   ]
  },
  {
   "cell_type": "markdown",
   "id": "782ff657-1693-47ff-8a7b-aded10e3afc7",
   "metadata": {},
   "source": [
    "The main objectives of this notebook were to:\n",
    "\n",
    "*   List and describe the core languages used in data science.\n",
    "*   Identify and explain the purpose of key data science libraries.\n",
    "*   Present a table of common data science tools.\n",
    "*   Demonstrate basic arithmetic operations using Python code cells.\n",
    "*   Showcase proficiency in using Markdown for formatting text, lists, and tables.\n"
   ]
  },
  {
   "cell_type": "markdown",
   "id": "3c625b9c-ac55-48b0-8602-a9ba6785ba4f",
   "metadata": {},
   "source": [
    "## Author\n",
    "K.B.K\n"
   ]
  },
  {
   "cell_type": "code",
   "execution_count": null,
   "id": "2a4eb11d-c4b9-4e64-b237-6e986403a897",
   "metadata": {},
   "outputs": [],
   "source": []
  }
 ],
 "metadata": {
  "kernelspec": {
   "display_name": "Python [conda env:base] *",
   "language": "python",
   "name": "conda-base-py"
  },
  "language_info": {
   "codemirror_mode": {
    "name": "ipython",
    "version": 3
   },
   "file_extension": ".py",
   "mimetype": "text/x-python",
   "name": "python",
   "nbconvert_exporter": "python",
   "pygments_lexer": "ipython3",
   "version": "3.13.5"
  }
 },
 "nbformat": 4,
 "nbformat_minor": 5
}
