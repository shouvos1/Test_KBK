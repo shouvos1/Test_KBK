{
 "cells": [
  {
   "cell_type": "markdown",
   "id": "1eaf16ee-728a-48bf-95e8-532c233b8e84",
   "metadata": {},
   "source": [
    "\n",
    "## Final Project: Data Science Tools and Ecosystem"
   ]
  },
  {
   "cell_type": "markdown",
   "id": "bf4fc5de-2830-422a-b9e1-2130d8ddb05c",
   "metadata": {},
   "source": [
    "\n",
    "In this notebook, Data Science Tools and Ecosystem are summarized."
   ]
  },
  {
   "cell_type": "markdown",
   "id": "28b3afe4-108e-4464-b9ac-76a43a2e4477",
   "metadata": {},
   "source": [
    "\n",
    "\n",
    "Some of the most popular and widely used languages in data science include:\n",
    "\n",
    "*   **Python:** The most popular language for data science due to its simplicity, extensive libraries (like Pandas, NumPy, and Scikit-learn), and versatility.\n",
    "*   **R:** A language built specifically for statistical computing and graphics. It is highly favored in academia and research.\n",
    "*   **SQL (Structured Query Language):** Essential for managing and querying data stored in relational databases.\n",
    "*   **Julia:** A newer, high-performance language designed for technical computing, which is gaining popularity for its speed.\n",
    "*   **Java:** Often used in large-scale enterprise systems and for building big data frameworks like Hadoop and Spark.\n",
    "*   **Scala:** Runs on the Java Virtual Machine (JVM) and is a popular choice for working with Apache Spark.\n"
   ]
  },
  {
   "cell_type": "markdown",
   "id": "6b22f7db-8bff-4fb8-8a57-9604670ed9b5",
   "metadata": {},
   "source": [
    "#Data scientists rely on powerful libraries to perform complex tasks efficiently. Some of the most essential libraries, particularly for Python, are:\n",
    "\n",
    "*   **Pandas:** For data manipulation and analysis, providing powerful data structures like the DataFrame.\n",
    "*   **NumPy:** The fundamental package for numerical computing in Python, offering support for large, multi-dimensional arrays and matrices.\n",
    "*   **Matplotlib:** A comprehensive library for creating static, animated, and interactive visualizations.\n",
    "*   **Seaborn:** A high-level visualization library based on Matplotlib that offers beautiful and informative statistical graphics.\n",
    "*   **Scikit-learn:** The go-to library for machine learning, featuring tools for classification, regression, clustering, and model selection.\n",
    "*   **TensorFlow & PyTorch:** Leading deep learning frameworks for building and training neural networks.\n",
    "*   **ggplot2:** A powerful and popular data visualization library for the R language.\n"
   ]
  },
  {
   "cell_type": "markdown",
   "id": "539a992c-21f4-4085-ab37-3ce4352af7ad",
   "metadata": {},
   "source": [
    "      \n",
    "\n",
    "| Data Science Tools |\n",
    "|--------------------|\n",
    "| Jupyter Notebook   |\n",
    "| RStudio            |\n",
    "| Apache Zeppelin    |\n",
    "| Google Colab       |\n",
    "| IBM Watson Studio  |"
   ]
  },
  {
   "cell_type": "markdown",
   "id": "b5024e03-f0db-47f3-8236-109eaf5c204a",
   "metadata": {},
   "source": [
    "### Below are a few examples of evaluating arithmetic expressions in Python"
   ]
  },
  {
   "cell_type": "code",
   "execution_count": 22,
   "id": "c74393a8-741b-4682-9023-646eaeb7b2e6",
   "metadata": {},
   "outputs": [
    {
     "name": "stdout",
     "output_type": "stream",
     "text": [
      "The result of the calculation is: 17\n"
     ]
    }
   ],
   "source": [
    "# expression to multiply then add integers. \n",
    "result = (3 * 4) + 5\n",
    "# The result should be 17 \n",
    "print(\"The result of the calculation is:\", result)"
   ]
  },
  {
   "cell_type": "code",
   "execution_count": 23,
   "id": "691e2cd9-d787-4e17-a5fd-208f1feb662a",
   "metadata": {},
   "outputs": [
    {
     "name": "stdout",
     "output_type": "stream",
     "text": [
      "200 minutes is equal to 3.3333333333333335 hours.\n"
     ]
    }
   ],
   "source": [
    "\n",
    "# This code cell will convert, for example:  200 minutes into hours. \n",
    "minutes = 200 \n",
    "hours = minutes / 60 \n",
    "print(f\"{minutes} minutes is equal to {hours} hours.\")"
   ]
  },
  {
   "cell_type": "markdown",
   "id": "782ff657-1693-47ff-8a7b-aded10e3afc7",
   "metadata": {},
   "source": [
    "**Objectives:**\n",
    "*   List popular languages for Data Science.\n",
    "*   Identify commonly used libraries in Data Science.\n",
    "*   Present a table of essential Data Science tools.\n",
    "*   Demonstrate basic arithmetic operations in a Python code cell.\n",
    "\n",
    "\n"
   ]
  },
  {
   "cell_type": "markdown",
   "id": "3c625b9c-ac55-48b0-8602-a9ba6785ba4f",
   "metadata": {},
   "source": [
    "## Author\n",
    "K.B.K\n"
   ]
  },
  {
   "cell_type": "code",
   "execution_count": null,
   "id": "2a4eb11d-c4b9-4e64-b237-6e986403a897",
   "metadata": {},
   "outputs": [],
   "source": []
  }
 ],
 "metadata": {
  "kernelspec": {
   "display_name": "Python [conda env:base] *",
   "language": "python",
   "name": "conda-base-py"
  },
  "language_info": {
   "codemirror_mode": {
    "name": "ipython",
    "version": 3
   },
   "file_extension": ".py",
   "mimetype": "text/x-python",
   "name": "python",
   "nbconvert_exporter": "python",
   "pygments_lexer": "ipython3",
   "version": "3.13.5"
  }
 },
 "nbformat": 4,
 "nbformat_minor": 5
}
